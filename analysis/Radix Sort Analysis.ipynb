{
 "cells": [
  {
   "cell_type": "code",
   "execution_count": 1,
   "metadata": {},
   "outputs": [],
   "source": [
    "import csv\n",
    "import sys\n",
    "import pandas as pd\n",
    "import re"
   ]
  },
  {
   "cell_type": "markdown",
   "metadata": {},
   "source": [
    "# Data Load"
   ]
  },
  {
   "cell_type": "code",
   "execution_count": 2,
   "metadata": {},
   "outputs": [],
   "source": [
    "ls16raw = pd.read_csv(\"./libsort16b.csv\", skiprows=[4], \n",
    "                 comment=\"=\")\n",
    "\n",
    "ls8raw = pd.read_csv(\"./libsort8b.csv\", skiprows=[4], \n",
    "                 comment=\"=\")\n",
    "\n",
    "faasFirst16raw = pd.read_csv(\"./faasFirst16.csv\")\n",
    "faasFirst8raw = pd.read_csv(\"./faasFirst8.csv\")\n",
    "\n",
    "faasMid16raw = pd.read_csv(\"./faasMiddle16.csv\")\n",
    "faasMid8raw = pd.read_csv(\"./faasMiddle8.csv\")"
   ]
  },
  {
   "cell_type": "markdown",
   "metadata": {},
   "source": [
    "# Data Cleaning"
   ]
  },
  {
   "cell_type": "code",
   "execution_count": 8,
   "metadata": {},
   "outputs": [
    {
     "name": "stdout",
     "output_type": "stream",
     "text": [
      "writeMeta         1126.000000\n",
      "writeData          508.000000\n",
      "readData           474.000000\n",
      "readMeta           364.000000\n",
      "other               35.000000\n",
      "libsort-core      1787.556973\n",
      "libsort-memcpy     979.613281\n",
      "dtype: float64\n"
     ]
    }
   ],
   "source": [
    "renames = {\n",
    "    \"gpu_radix_sort_local(unsigned int*, unsigned int*, unsigned int*, unsigned int, unsigned int*, unsigned int, unsigned int)\" : (\"GpuSort\", \"core\"),\n",
    "    \"[CUDA memcpy HtoD]\" : (\"Host->Device\", \"data\"),\n",
    "    \"[CUDA memcpy DtoH]\" : (\"Device->Host\", \"data\"),\n",
    "    \"gpu_glbl_shuffle(unsigned int*, unsigned int*, unsigned int*, unsigned int*, unsigned int, unsigned int, unsigned int)\" : (\"GpuShuffle\", \"core\"),\n",
    "    \"gpu_prescan(unsigned int*, unsigned int const *, unsigned int*, unsigned int, unsigned int, unsigned int)\" : (\"GpuSortHelper0\", \"core\"),\n",
    "    'gpu_groups(unsigned int*, unsigned int*, int, int, unsigned int)' : (\"GpuBoundaries\", \"distrib\"),\n",
    "    \"gpu_add_block_sums(unsigned int*, unsigned int const *, unsigned int*, unsigned long)\" : (\"GpuSortHelper1\", \"core\")\n",
    "}\n",
    "\n",
    "def cleanNvprof(orig):\n",
    "    df = orig.copy()\n",
    "    \n",
    "    # subset for only significant api calls\n",
    "    df = df[ df['Type'] == \"GPU activities\" ].drop(['Type'], axis=1)\n",
    "    df = df[ df['Time(%)'] > 0.5 ]\n",
    "    \n",
    "    # Human readable names and categories\n",
    "    for oldName, cleaned in renames.items():\n",
    "        df.loc[ (df['Name'] == oldName), 'Category' ] = cleaned[1]\n",
    "        df.loc[ (df['Name'] == oldName), 'Name' ] = cleaned[0]\n",
    "\n",
    "    # summarize by category\n",
    "    df = df.groupby([\"Category\"]).sum()[['Time(%)', 'Time']]\n",
    "\n",
    "    return df\n",
    "\n",
    "def cleanCprofile(orig):\n",
    "    df = orig.copy()\n",
    "    \n",
    "    # Extract just the function name from the output\n",
    "    reFname = re.compile(\".*:.*\\((.*)\\)\")\n",
    "    def filterFName(x):\n",
    "        m = reFname.match(x)\n",
    "        if m is not None:\n",
    "            return m.group(1)\n",
    "        else:\n",
    "            return x\n",
    "        \n",
    "    df.loc[:,['filename:lineno(function)']] = df.loc[:,['filename:lineno(function)']].applymap(filterFName)\n",
    "    df.rename(columns={'filename:lineno(function)':\"function\"}, inplace=True)\n",
    "    \n",
    "    # Only want cumtime\n",
    "    df = df.drop(['ncalls','tottime','percall', 'percall.1'], axis=1)\n",
    "    \n",
    "    # Convert to ms\n",
    "    df['cumtime'] *= 1000\n",
    "    \n",
    "    df.rename(columns={'cumtime' : 'time'}, inplace=True)\n",
    "    df.set_index('function', inplace=True)\n",
    "    \n",
    "    leaves = pd.Series(dtype=float)\n",
    "    \n",
    "    leaves['libsort'] = df.loc['sortPartial', 'time']\n",
    "    leaves['writeMeta'] = df.loc['Close', 'time']\n",
    "    leaves['writeData'] = df.loc['WriteAll', 'time']\n",
    "    leaves['readData'] = df.loc['ReadPart', 'time']\n",
    "    leaves['readMeta'] = (df.loc['readPartRefs', 'time'] + df.loc['getPartRefs', 'time']) - leaves['readData']\n",
    "    # if 'other' isn't trivial, something has gone wrong in our accounting\n",
    "    leaves['other'] = df.loc['f', 'time'].sum() - leaves.sum()\n",
    "    \n",
    "    return leaves\n",
    "\n",
    "def combine(ls, py):\n",
    "    faas = py.copy()\n",
    "    faas['libsort-core'] = py['libsort'] - ls.loc['data', 'Time']\n",
    "    faas['libsort-memcpy'] = py['libsort'] - ls.loc['core', 'Time']\n",
    "    faas.drop('libsort', inplace=True)\n",
    "\n",
    "    return faas\n",
    "    \n",
    "ls16 = cleanNvprof(ls16raw)\n",
    "ls8 = cleanNvprof(ls8raw)\n",
    "\n",
    "faasMid16 = combine(ls16, cleanCprofile(faasMid16raw))\n",
    "faasMid8 = combine(ls8, cleanCprofile(faasMid8raw))\n",
    "faasFirst16 = combine(ls16, cleanCprofile(faasFirst16raw))\n",
    "faasFirst8 = combine(ls8, cleanCprofile(faasFirst8raw))\n",
    "\n",
    "print(faasMid16)"
   ]
  },
  {
   "cell_type": "markdown",
   "metadata": {},
   "source": [
    "# Plot Time Breakdowns"
   ]
  },
  {
   "cell_type": "markdown",
   "metadata": {},
   "source": [
    "## LibSort"
   ]
  },
  {
   "cell_type": "code",
   "execution_count": 4,
   "metadata": {},
   "outputs": [
    {
     "data": {
      "text/plain": [
       "Text(0, 0.5, 'Time (ms)')"
      ]
     },
     "execution_count": 4,
     "metadata": {},
     "output_type": "execute_result"
    },
    {
     "data": {
      "image/png": "[encoded data removed]",
      "text/plain": [
       "<Figure size 432x288 with 1 Axes>"
      ]
     },
     "metadata": {
      "needs_background": "light"
     },
     "output_type": "display_data"
    }
   ],
   "source": [
    "t8 = ls8.T.loc['Time'].rename(\"8\")\n",
    "t16 = ls16.T.loc['Time'].rename(\"16\")\n",
    "pltDf = pd.DataFrame([t8, t16])\n",
    "ax = pltDf.plot.bar(stacked=True)\n",
    "\n",
    "ax.set_title(\"Libsort Time Breakdown\")\n",
    "ax.set_xlabel(\"Radix Width Per Step\")\n",
    "ax.set_ylabel(\"Time (ms)\")\n",
    "\n",
    "# ax.get_figure().savefig(\"libsortBreakdown.png\", dpi=300)"
   ]
  },
  {
   "cell_type": "markdown",
   "metadata": {},
   "source": [
    "## Full FaaS"
   ]
  },
  {
   "cell_type": "code",
   "execution_count": 5,
   "metadata": {},
   "outputs": [
    {
     "data": {
      "text/plain": [
       "<matplotlib.legend.Legend at 0x7f8251c2a910>"
      ]
     },
     "execution_count": 5,
     "metadata": {},
     "output_type": "execute_result"
    },
    {
     "data": {
      "image/png": "[encoded data removed]",
      "text/plain": [
       "<Figure size 432x288 with 1 Axes>"
      ]
     },
     "metadata": {
      "needs_background": "light"
     },
     "output_type": "display_data"
    }
   ],
   "source": [
    "pltDf = pd.DataFrame([faasFirst8, faasFirst16, faasMid8, faasMid16], index=[\"Step 0 (8b)\", \"Step 0 (16b)\", \"Step 1 (8b)\", \"Step1 (16b)\"])\n",
    "ax = pltDf.plot.bar(stacked=True)\n",
    "\n",
    "ax.set_xlabel(\"Radix Width Per Step\")\n",
    "ax.set_ylabel(\"Time (ms)\")\n",
    "ax.set_title(\"FaaS Worker Breakdown (1 step)\")\n",
    "ax.legend(bbox_to_anchor=(1.0, 1.0))\n",
    "# ax.get_figure().savefig(\"faasBreakdown.png\", dpi=300, bbox_inches = \"tight\")"
   ]
  },
  {
   "cell_type": "markdown",
   "metadata": {},
   "source": [
    "There are a number of things about these results that don't make immediate sense. Firstly, writing data takes significantly longer than reading despite processing the same amount of data (about 2GB), it is also inconsistent between runs. It is possible that this is due to details of the Linux filesystem, ideally this experiment would go through a memory-backed filesystem (or a different backing store) to minimize this discrepancy. Next we notice that metadata processing takes significantly longer when writing vs reading. Unlike data, metadata is dominated by JSON processing, the actual data volume is only a few megabytes. In theory, reading should be slower as it must decode two arrays worth of metadata. It is not clear why this is. More detailed profiling may be required.\n",
    "\n",
    "Still, there are some clear trends. Read metadata handling more than doubles in the 16b case for intermediate steps since it must now perform the complex gather from many partitions. The initial step reads a simple contiguous chunk of data from a single partition. Write metadata handling is even more striking. It goes from trivial to a large portion of the runtime as we increase the bitwidth. It is dominated by JSON serialization. This could be reduced by switching to a more efficient binary format."
   ]
  },
  {
   "cell_type": "code",
   "execution_count": null,
   "metadata": {},
   "outputs": [],
   "source": []
  }
 ],
 "metadata": {
  "kernelspec": {
   "display_name": "Python 3",
   "language": "python",
   "name": "python3"
  },
  "language_info": {
   "codemirror_mode": {
    "name": "ipython",
    "version": 3
   },
   "file_extension": ".py",
   "mimetype": "text/x-python",
   "name": "python",
   "nbconvert_exporter": "python",
   "pygments_lexer": "ipython3",
   "version": "3.7.6"
  }
 },
 "nbformat": 4,
 "nbformat_minor": 2
}
